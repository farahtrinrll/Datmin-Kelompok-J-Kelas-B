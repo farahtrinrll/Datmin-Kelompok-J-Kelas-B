{
  "nbformat": 4,
  "nbformat_minor": 0,
  "metadata": {
    "colab": {
      "provenance": [],
      "authorship_tag": "ABX9TyMXRqNhZeqLkph1+EdfLBJz",
      "include_colab_link": true
    },
    "kernelspec": {
      "name": "python3",
      "display_name": "Python 3"
    },
    "language_info": {
      "name": "python"
    }
  },
  "cells": [
    {
      "cell_type": "markdown",
      "metadata": {
        "id": "view-in-github",
        "colab_type": "text"
      },
      "source": [
        "<a href=\"https://colab.research.google.com/github/farahtrinrll/Datmin-Kelompok-J-Kelas-B/blob/main/DatMin_Kelompok_J.ipynb\" target=\"_parent\"><img src=\"https://colab.research.google.com/assets/colab-badge.svg\" alt=\"Open In Colab\"/></a>"
      ]
    },
    {
      "cell_type": "code",
      "execution_count": 1,
      "metadata": {
        "colab": {
          "base_uri": "https://localhost:8080/"
        },
        "id": "Z0XxPvuKOjzd",
        "outputId": "bc02b078-9472-49f3-f35a-8b9e4728bf5f"
      },
      "outputs": [
        {
          "output_type": "stream",
          "name": "stdout",
          "text": [
            "Kelompok J\n"
          ]
        }
      ],
      "source": [
        "print('Kelompok J')"
      ]
    },
    {
      "cell_type": "code",
      "source": [],
      "metadata": {
        "id": "rffvsDhAPFBk"
      },
      "execution_count": null,
      "outputs": []
    }
  ]
}