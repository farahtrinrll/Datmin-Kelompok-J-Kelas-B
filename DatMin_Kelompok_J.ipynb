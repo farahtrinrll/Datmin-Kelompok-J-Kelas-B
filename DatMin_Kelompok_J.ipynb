{
  "nbformat": 4,
  "nbformat_minor": 0,
  "metadata": {
    "colab": {
      "provenance": [],
      "include_colab_link": true
    },
    "kernelspec": {
      "name": "python3",
      "display_name": "Python 3"
    },
    "language_info": {
      "name": "python"
    }
  },
  "cells": [
    {
      "cell_type": "markdown",
      "metadata": {
        "id": "view-in-github",
        "colab_type": "text"
      },
      "source": [
        "<a href=\"https://colab.research.google.com/github/farahtrinrll/Datmin-Kelompok-J-Kelas-B/blob/main/DatMin_Kelompok_J.ipynb\" target=\"_parent\"><img src=\"https://colab.research.google.com/assets/colab-badge.svg\" alt=\"Open In Colab\"/></a>"
      ]
    },
    {
      "cell_type": "code",
      "execution_count": 1,
      "metadata": {
        "id": "GeEoepMSj4o2",
        "outputId": "6d352d6d-f610-47ad-e4ca-adf31f0e34e2",
        "colab": {
          "base_uri": "https://localhost:8080/"
        }
      },
      "outputs": [
        {
          "output_type": "stream",
          "name": "stdout",
          "text": [
            "Grup J\n"
          ]
        }
      ],
      "source": [
        "print('Grup J')"
      ]
    },
    {
      "cell_type": "code",
      "source": [],
      "metadata": {
        "id": "gndJ9KOR2VD2"
      },
      "execution_count": null,
      "outputs": []
    }
  ]
}